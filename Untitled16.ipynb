{
  "nbformat": 4,
  "nbformat_minor": 0,
  "metadata": {
    "colab": {
      "provenance": [],
      "authorship_tag": "ABX9TyPS/m8bvm6nSUqvfFSiuWDP",
      "include_colab_link": true
    },
    "kernelspec": {
      "name": "python3",
      "display_name": "Python 3"
    },
    "language_info": {
      "name": "python"
    }
  },
  "cells": [
    {
      "cell_type": "markdown",
      "metadata": {
        "id": "view-in-github",
        "colab_type": "text"
      },
      "source": [
        "<a href=\"https://colab.research.google.com/github/rahmosthated/classroom-attendance/blob/main/Untitled16.ipynb\" target=\"_parent\"><img src=\"https://colab.research.google.com/assets/colab-badge.svg\" alt=\"Open In Colab\"/></a>"
      ]
    },
    {
      "cell_type": "code",
      "execution_count": 2,
      "metadata": {
        "colab": {
          "base_uri": "https://localhost:8080/"
        },
        "id": "M6bGYP-641IM",
        "outputId": "d647d57e-5d02-4b33-e667-2f2fcbd6637b"
      },
      "outputs": [
        {
          "output_type": "stream",
          "name": "stdout",
          "text": [
            "Enter student names (type 'done' to finish):\n",
            "Enter student name: arron\n",
            "Enter student name: john\n",
            "Enter student name: jon\n",
            "Enter student name: john\n",
            "Error: Duplicate name entered. Stopping input.\n",
            "\n",
            "Enter attendance for each student (type 'done' to finish):\n",
            "Is arron present or absent? 10 days \n",
            "Is john present or absent? 10 days \n",
            "Is jon present or absent? 11 days \n",
            "\n",
            "Attendance Record:\n",
            "arron: 10 days\n",
            "john: 10 days\n",
            "jon: 11 days\n"
          ]
        }
      ],
      "source": [
        "# Lists to store student names and their corresponding attendance statuses\n",
        "student_names = []\n",
        "attendance_statuses = []\n",
        "\n",
        "# -------------------- PHASE 1: Collect Student Names --------------------\n",
        "\n",
        "print(\"Enter student names (type 'done' to finish):\")\n",
        "\n",
        "while True:\n",
        "    # Ask the teacher to enter a student's name\n",
        "    name = input(\"Enter student name: \").strip()\n",
        "\n",
        "    # If the teacher types 'done', stop collecting names\n",
        "    if name.lower() == \"done\":\n",
        "        break\n",
        "\n",
        "    # Check for duplicate names\n",
        "    elif name in student_names:\n",
        "        # If a duplicate name is entered, show an error and stop the loop\n",
        "        print(\"Error: Duplicate name entered. Stopping input.\")\n",
        "        break\n",
        "\n",
        "    else:\n",
        "        # If the name is unique, add it to the list\n",
        "        student_names.append(name)\n",
        "\n",
        "# -------------------- PHASE 2: Collect Attendance Statuses --------------------\n",
        "\n",
        "print(\"\\nEnter attendance for each student (type 'done' to finish):\")\n",
        "\n",
        "# Initialize a counter to loop through the list of student names\n",
        "i = 0\n",
        "while i < len(student_names):\n",
        "    name = student_names[i]\n",
        "\n",
        "    # Ask for the attendance status of the current student\n",
        "    status = input(f\"Is {name} present or absent? \").strip().lower()\n",
        "\n",
        "    # Allow user to break out of attendance loop early if needed\n",
        "    if name.lower() == \"done\":\n",
        "        break\n",
        "    else:\n",
        "        # Add the attendance status to the list\n",
        "        attendance_statuses.append(status)\n",
        "        i += 1  # Move to the next student\n",
        "\n",
        "# -------------------- PHASE 3: Display Attendance Record --------------------\n",
        "\n",
        "print(\"\\nAttendance Record:\")\n",
        "# Loop through the lists and print out each student's name and their status\n",
        "for i in range(len(attendance_statuses)):\n",
        "    print(f\"{student_names[i]}: {attendance_statuses[i]}\")\n",
        "\n",
        "    # tested this by inputing random names, then dulicated the name john to see if the stop input\n"
      ]
    }
  ]
}